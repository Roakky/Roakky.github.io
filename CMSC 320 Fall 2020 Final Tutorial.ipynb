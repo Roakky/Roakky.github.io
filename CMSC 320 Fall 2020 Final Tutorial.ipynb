{
 "cells": [
  {
   "cell_type": "markdown",
   "metadata": {},
   "source": [
    "# Presidential Election 2020 Voter Turnout Analysis\n",
    "## CMSC 320 Fall 2020 Final Tutorial\n",
    "## Robert Young \n",
    "## Table of Contents\n",
    "* Introduction\n",
    "* Data Collection\n",
    "* Data Processing\n",
    "* Data Analysis\n",
    "* Data Visualization and Machine Learning\n",
    "* Conclusion\n",
    "\n",
    "## Introduction\n",
    "The purpose of this tutorial is to draw conclusions on how voting was in this year's presidential election. I will apply the data lifecycle to data collected on general election 2020 voter turnout rates.\n",
    "\n",
    "The presidential election happens every 4 years in the United States of America. It is a highly anticipated event by many Americans across the country. The two main candidates are either affiliated with the Democratic or Republican party. Two different votes are taken into account when deciding who will become the next president of the United States of America. The popular and electoral vote. Popular vote accounts for all the votes casted by eligible voters in each state. The electoral college is made up of electors who actually decide how to vote for their state. Republicans are represented as red and Democrats are represented as blue on the electoral college map. There are other political parties in the United States, but they tend to be irrelevant in most presidential elections. I will focus on popular vote in this tutorial. \n",
    "\n",
    "If you do not fully understand how the presidential election or electoral college works, I recommend you check out this <a href = \"https://www.usa.gov/election#:~:text=Each%20elector%20casts%20one%20electoral,and%20are%20inaugurated%20in%20January\"> link</a> that dives into this stuff in great detail. Unfortunately, I am not the best source of information when it comes to how political elections work in the United States of America. \n",
    "\n",
    "I got the data needed to perform this tutorial from Kaggle. The data is formatted in a CSV file named 2020 November General Election - Turnout Rates.csv. You can find this dataset on Kaggle's website at this <a href = \"https://www.kaggle.com/imoore/2020-us-general-election-turnout-rates\"> link</a>. \n",
    "\n",
    "The modules I used in this tutorial are numpy, pandas, seaborn, sklearn, matplotlib, and pyplot. The modules numpy and pandas are for data collection and processing. The modules seaborn, matplotlib, and pyplot are for creating and formating data plots. The module sklearn is for machine learning. "
   ]
  },
  {
   "cell_type": "code",
   "execution_count": 1,
   "metadata": {},
   "outputs": [],
   "source": [
    "import numpy as np\n",
    "import pandas as pd\n",
    "import matplotlib as mpl\n",
    "from matplotlib import pyplot as plt\n",
    "import seaborn as sns\n",
    "from sklearn.model_selection import train_test_split\n",
    "from sklearn.discriminant_analysis import LinearDiscriminantAnalysis\n",
    "from sklearn.metrics import accuracy_score"
   ]
  },
  {
   "cell_type": "markdown",
   "metadata": {},
   "source": [
    "## Data Collection\n",
    "The dataset I am using has 52 rows and 12 columns. Each row represents a state, except for United States and District of Columbia. The rows are ordered alphabetically by state name. \n",
    "\n",
    "There are 12 different attributes for each state. The VEP Turnout Rate is the most important column for this tutorial's purpose. This dataset has a focus on showing voting eligibility for each state. \n",
    "\n",
    "I downloaded the CSV file from Kaggle into a folder with my tutorial. The person who scraped the data into the CSV file did a good job. I will transform the dataset into a pandas dataframe.\n",
    "\n",
    "I decided to get rid of the source, official/unofficial, and overseas eligible columns to make things more clean and simple. I did this to remove unnecessary information from the table. The goal of this tutorial is to analyze voter turnout in the election. Thus these columns are not needed. I can also treat the United States and District of Columbia as states just for easier comparisons between other states."
   ]
  },
  {
   "cell_type": "code",
   "execution_count": 2,
   "metadata": {},
   "outputs": [
    {
     "data": {
      "text/html": [
       "<div>\n",
       "<style scoped>\n",
       "    .dataframe tbody tr th:only-of-type {\n",
       "        vertical-align: middle;\n",
       "    }\n",
       "\n",
       "    .dataframe tbody tr th {\n",
       "        vertical-align: top;\n",
       "    }\n",
       "\n",
       "    .dataframe thead th {\n",
       "        text-align: right;\n",
       "    }\n",
       "</style>\n",
       "<table border=\"1\" class=\"dataframe\">\n",
       "  <thead>\n",
       "    <tr style=\"text-align: right;\">\n",
       "      <th></th>\n",
       "      <th>State</th>\n",
       "      <th>Ballot Count</th>\n",
       "      <th>President Vote Count</th>\n",
       "      <th>VEP Turnout Rate</th>\n",
       "      <th>Voting-Eligible Population (VEP)</th>\n",
       "      <th>Voting-Age Population (VAP)</th>\n",
       "      <th>% Non-citizen</th>\n",
       "      <th>Prison</th>\n",
       "      <th>Probation</th>\n",
       "      <th>Parole</th>\n",
       "      <th>Total Ineligible Felon</th>\n",
       "      <th>State Abv</th>\n",
       "    </tr>\n",
       "  </thead>\n",
       "  <tbody>\n",
       "    <tr>\n",
       "      <th>0</th>\n",
       "      <td>United States</td>\n",
       "      <td>158,835,004</td>\n",
       "      <td>NaN</td>\n",
       "      <td>66.4%</td>\n",
       "      <td>239,247,182</td>\n",
       "      <td>257,605,088</td>\n",
       "      <td>7.8%</td>\n",
       "      <td>1,461,074</td>\n",
       "      <td>1,962,811</td>\n",
       "      <td>616,440</td>\n",
       "      <td>3,294,457</td>\n",
       "      <td>US</td>\n",
       "    </tr>\n",
       "    <tr>\n",
       "      <th>1</th>\n",
       "      <td>Alabama</td>\n",
       "      <td>2,306,587</td>\n",
       "      <td>2,297,295</td>\n",
       "      <td>62.6%</td>\n",
       "      <td>3,683,055</td>\n",
       "      <td>3,837,540</td>\n",
       "      <td>2.3%</td>\n",
       "      <td>25,898</td>\n",
       "      <td>50,997</td>\n",
       "      <td>10,266</td>\n",
       "      <td>67,782</td>\n",
       "      <td>AL</td>\n",
       "    </tr>\n",
       "    <tr>\n",
       "      <th>2</th>\n",
       "      <td>Alaska</td>\n",
       "      <td>367,000</td>\n",
       "      <td>NaN</td>\n",
       "      <td>69.8%</td>\n",
       "      <td>525,568</td>\n",
       "      <td>551,117</td>\n",
       "      <td>3.4%</td>\n",
       "      <td>4,293</td>\n",
       "      <td>2,074</td>\n",
       "      <td>1,348</td>\n",
       "      <td>6,927</td>\n",
       "      <td>AK</td>\n",
       "    </tr>\n",
       "    <tr>\n",
       "      <th>3</th>\n",
       "      <td>Arizona</td>\n",
       "      <td>3,400,000</td>\n",
       "      <td>NaN</td>\n",
       "      <td>65.5%</td>\n",
       "      <td>5,189,000</td>\n",
       "      <td>5,798,473</td>\n",
       "      <td>8.9%</td>\n",
       "      <td>38,520</td>\n",
       "      <td>76,844</td>\n",
       "      <td>7,536</td>\n",
       "      <td>93,699</td>\n",
       "      <td>AZ</td>\n",
       "    </tr>\n",
       "    <tr>\n",
       "      <th>4</th>\n",
       "      <td>Arkansas</td>\n",
       "      <td>1,212,030</td>\n",
       "      <td>1,206,697</td>\n",
       "      <td>55.5%</td>\n",
       "      <td>2,182,375</td>\n",
       "      <td>2,331,171</td>\n",
       "      <td>3.6%</td>\n",
       "      <td>17,510</td>\n",
       "      <td>36,719</td>\n",
       "      <td>24,698</td>\n",
       "      <td>64,974</td>\n",
       "      <td>AR</td>\n",
       "    </tr>\n",
       "  </tbody>\n",
       "</table>\n",
       "</div>"
      ],
      "text/plain": [
       "           State Ballot Count President Vote Count VEP Turnout Rate  \\\n",
       "0  United States  158,835,004                  NaN            66.4%   \n",
       "1        Alabama    2,306,587            2,297,295            62.6%   \n",
       "2         Alaska      367,000                  NaN            69.8%   \n",
       "3        Arizona    3,400,000                  NaN            65.5%   \n",
       "4       Arkansas    1,212,030            1,206,697            55.5%   \n",
       "\n",
       "  Voting-Eligible Population (VEP) Voting-Age Population (VAP) % Non-citizen  \\\n",
       "0                      239,247,182                 257,605,088          7.8%   \n",
       "1                        3,683,055                   3,837,540          2.3%   \n",
       "2                          525,568                     551,117          3.4%   \n",
       "3                        5,189,000                   5,798,473          8.9%   \n",
       "4                        2,182,375                   2,331,171          3.6%   \n",
       "\n",
       "      Prison  Probation   Parole Total Ineligible Felon State Abv  \n",
       "0  1,461,074  1,962,811  616,440              3,294,457        US  \n",
       "1     25,898     50,997   10,266                 67,782        AL  \n",
       "2      4,293      2,074    1,348                  6,927        AK  \n",
       "3     38,520     76,844    7,536                 93,699        AZ  \n",
       "4     17,510     36,719   24,698                 64,974        AR  "
      ]
     },
     "execution_count": 2,
     "metadata": {},
     "output_type": "execute_result"
    }
   ],
   "source": [
    "voter_turnout_data = '2020 November General Election - Turnout Rates.csv'\n",
    "voter_turnout_table = pd.read_csv(voter_turnout_data)\n",
    "voter_turnout_table = voter_turnout_table.rename(columns = {'Total Ballots Counted (Estimate)': 'Ballot Count', 'Vote for Highest Office (President)': 'President Vote Count'})\n",
    "voter_turnout_table.drop(columns = ['Source', 'Official/Unofficial', 'Overseas Eligible'], axis = 1, inplace = True)\n",
    "voter_turnout_table.at[0, 'State Abv'] = 'US'\n",
    "voter_turnout_table.head()"
   ]
  },
  {
   "cell_type": "markdown",
   "metadata": {},
   "source": [
    "The presidential election for this year was a little different in comparison to previous elections. There were in-person and mail-in ballots due to the coronavirus pandemic. This presented a lot of difficulty in ballot counting. It was so bad in some states that they decided to do ballot recounts and accept late mail-in ballots. These ballots allow an individual to vote for more than the president obviously. There are other things to vote for like senators and representatives. I am only going to focus on president votes. \n",
    "\n",
    "If you want to learn more about voter turnout for this year's presidential election, check out this <a href = \"https://time.com/5907062/record-turnout-history/\"> link</a>. \n",
    "\n",
    "## Data Processing\n",
    "Lets begin by looking at how the voter eligible population turnout rates for each state. A good way to visualize this is through a bar plot. The bar plot has voter turnout on the y axis and each state on the x axis.  "
   ]
  },
  {
   "cell_type": "code",
   "execution_count": 3,
   "metadata": {},
   "outputs": [
    {
     "name": "stderr",
     "output_type": "stream",
     "text": [
      "<ipython-input-3-5978db61a5f1>:2: SettingWithCopyWarning: \n",
      "A value is trying to be set on a copy of a slice from a DataFrame\n",
      "\n",
      "See the caveats in the documentation: https://pandas.pydata.org/pandas-docs/stable/user_guide/indexing.html#returning-a-view-versus-a-copy\n",
      "  voter_turnout_table_new.sort_values(by = ['VEP Turnout Rate'], inplace = True, ascending = True)\n"
     ]
    },
    {
     "data": {
      "text/plain": [
       "Text(0.5, 1.0, 'The VEP Turnout Rates For Each State In The 2020 General Election')"
      ]
     },
     "execution_count": 3,
     "metadata": {},
     "output_type": "execute_result"
    },
    {
     "data": {
      "image/png": "[encoded data removed]",
      "text/plain": [
       "<Figure size 1440x720 with 1 Axes>"
      ]
     },
     "metadata": {
      "needs_background": "light"
     },
     "output_type": "display_data"
    }
   ],
   "source": [
    "voter_turnout_table_new = voter_turnout_table[['State Abv', 'VEP Turnout Rate']]\n",
    "voter_turnout_table_new.sort_values(by = ['VEP Turnout Rate'], inplace = True, ascending = True)\n",
    "states = voter_turnout_table_new['State Abv']\n",
    "vep_turnout_rates = voter_turnout_table_new['VEP Turnout Rate']\n",
    "vep_turnout_rates_plot = plt.figure(figsize = (20, 10))\n",
    "plt.bar(states, vep_turnout_rates, width = 0.5, color = 'Black')\n",
    "plt.xlabel('States')\n",
    "plt.ylabel('VEP Turnout Rates (%)')\n",
    "plt.title('The VEP Turnout Rates For Each State In The 2020 General Election')"
   ]
  },
  {
   "cell_type": "markdown",
   "metadata": {},
   "source": [
    "It is evident who has the lowest and highest VEP turnout rate. It is Oklahoma and  Minnesota respectively. This may be due to a variety of factors such as the number of mail-in ballots, the number of coronavirus cases, and population demographics. Population demographics are an indicator in how a state votes. A demographic that is always shined upon during every election is the youth population. The youth population is usually not going to have high voter turnout in comparison to other age populations. This can be due to the mentality that voting does not matter and the lack of understanding of voting in general. Georgia seems to be middle of the pack, but got there with a large amount of voter turnout coming from the young adult population this general election. If you want to learn more about this, take a look at this <a href = \"https://time.com/5908483/georgia-youth-vote/\"> link</a>.  \n",
    "\n",
    "Lets follow up by taking a look at the eligibility to vote for each state. I will look at how many voting ineligible people there are in each state. I will use a bar plot again to visualize this. The bar plot has VIEP on the y axis and each state on the x axis. "
   ]
  },
  {
   "cell_type": "code",
   "execution_count": 4,
   "metadata": {},
   "outputs": [
    {
     "name": "stderr",
     "output_type": "stream",
     "text": [
      "/root/miniconda3/lib/python3.8/site-packages/pandas/core/frame.py:4383: SettingWithCopyWarning: \n",
      "A value is trying to be set on a copy of a slice from a DataFrame\n",
      "\n",
      "See the caveats in the documentation: https://pandas.pydata.org/pandas-docs/stable/user_guide/indexing.html#returning-a-view-versus-a-copy\n",
      "  return super().replace(\n",
      "<ipython-input-4-a8deb5c52104>:3: SettingWithCopyWarning: \n",
      "A value is trying to be set on a copy of a slice from a DataFrame.\n",
      "Try using .loc[row_indexer,col_indexer] = value instead\n",
      "\n",
      "See the caveats in the documentation: https://pandas.pydata.org/pandas-docs/stable/user_guide/indexing.html#returning-a-view-versus-a-copy\n",
      "  voter_turnout_table_new_new['Voting-Ineligible Population (VIEP)'] = voter_turnout_table_new_new.apply(lambda row: int(row['Voting-Age Population (VAP)']) - int(row['Voting-Eligible Population (VEP)']), axis = 1)\n",
      "/root/miniconda3/lib/python3.8/site-packages/pandas/core/frame.py:4167: SettingWithCopyWarning: \n",
      "A value is trying to be set on a copy of a slice from a DataFrame\n",
      "\n",
      "See the caveats in the documentation: https://pandas.pydata.org/pandas-docs/stable/user_guide/indexing.html#returning-a-view-versus-a-copy\n",
      "  return super().drop(\n",
      "<ipython-input-4-a8deb5c52104>:5: SettingWithCopyWarning: \n",
      "A value is trying to be set on a copy of a slice from a DataFrame\n",
      "\n",
      "See the caveats in the documentation: https://pandas.pydata.org/pandas-docs/stable/user_guide/indexing.html#returning-a-view-versus-a-copy\n",
      "  voter_turnout_table_new_new.sort_values(by = ['Voting-Ineligible Population (VIEP)'], inplace = True, ascending = True)\n"
     ]
    },
    {
     "data": {
      "text/plain": [
       "Text(0.5, 1.0, 'The VIEP For Each State In The 2020 General Election')"
      ]
     },
     "execution_count": 4,
     "metadata": {},
     "output_type": "execute_result"
    },
    {
     "data": {
      "image/png": "[encoded data removed]",
      "text/plain": [
       "<Figure size 1440x720 with 1 Axes>"
      ]
     },
     "metadata": {
      "needs_background": "light"
     },
     "output_type": "display_data"
    }
   ],
   "source": [
    "voter_turnout_table_new_new = voter_turnout_table[['State Abv', 'Voting-Eligible Population (VEP)', 'Voting-Age Population (VAP)']]\n",
    "voter_turnout_table_new_new.replace(',', '', regex = True, inplace = True)\n",
    "voter_turnout_table_new_new['Voting-Ineligible Population (VIEP)'] = voter_turnout_table_new_new.apply(lambda row: int(row['Voting-Age Population (VAP)']) - int(row['Voting-Eligible Population (VEP)']), axis = 1)\n",
    "voter_turnout_table_new_new.drop(columns = ['Voting-Eligible Population (VEP)', 'Voting-Age Population (VAP)'], axis = 1, inplace = True)\n",
    "voter_turnout_table_new_new.sort_values(by = ['Voting-Ineligible Population (VIEP)'], inplace = True, ascending = True)\n",
    "states = voter_turnout_table_new_new['State Abv']\n",
    "vep_ineligible_population = voter_turnout_table_new_new['Voting-Ineligible Population (VIEP)']\n",
    "vep_ineligible_population_plot = plt.figure(figsize = (20, 10))\n",
    "plt.bar(states, vep_ineligible_population, width = 0.5, color = 'Black')\n",
    "plt.xlabel('States')\n",
    "plt.ylabel('VIEP')\n",
    "plt.title('The VIEP For Each State In The 2020 General Election')"
   ]
  },
  {
   "cell_type": "markdown",
   "metadata": {},
   "source": [
    "The obvious trend here is that states with a higher population are going to have a higher voter ineligible population. There are some states that have a lower population and a higher voter ineligible population. States like Louisiana and New Jersey. If you would like to learn more about what causes an individual to not be able to vote, go to this <a href = \"https://www.usa.gov/who-can-vote\"> link</a>. \n",
    "## Data Analysis\n",
    "Ealier I said that every state has a set of attributes that are related to voting in this year's general election. I can categorize some of these attributes by grouping them together. I created some new columns that reflect this grouping. \n",
    "\n",
    "The attributes prison, probation, parole, and total ineligible felon can be combined into a single column called ineligible crime committers. This would not apply to all states due to some states being lenient. For the purposes of this tutorial, I am going to assume that any consequences put on an individual due to crimes at the time of the election causes someone to be ineligible to vote. "
   ]
  },
  {
   "cell_type": "code",
   "execution_count": 5,
   "metadata": {},
   "outputs": [
    {
     "data": {
      "text/html": [
       "<div>\n",
       "<style scoped>\n",
       "    .dataframe tbody tr th:only-of-type {\n",
       "        vertical-align: middle;\n",
       "    }\n",
       "\n",
       "    .dataframe tbody tr th {\n",
       "        vertical-align: top;\n",
       "    }\n",
       "\n",
       "    .dataframe thead th {\n",
       "        text-align: right;\n",
       "    }\n",
       "</style>\n",
       "<table border=\"1\" class=\"dataframe\">\n",
       "  <thead>\n",
       "    <tr style=\"text-align: right;\">\n",
       "      <th></th>\n",
       "      <th>State</th>\n",
       "      <th>Ballot Count</th>\n",
       "      <th>President Vote Count</th>\n",
       "      <th>VEP Turnout Rate</th>\n",
       "      <th>Voting-Eligible Population (VEP)</th>\n",
       "      <th>Voting-Age Population (VAP)</th>\n",
       "      <th>% Non-citizen</th>\n",
       "      <th>State Abv</th>\n",
       "      <th>Ineligible Crime Committers</th>\n",
       "    </tr>\n",
       "  </thead>\n",
       "  <tbody>\n",
       "    <tr>\n",
       "      <th>0</th>\n",
       "      <td>United States</td>\n",
       "      <td>158835004</td>\n",
       "      <td>NaN</td>\n",
       "      <td>66.4%</td>\n",
       "      <td>239247182</td>\n",
       "      <td>257605088</td>\n",
       "      <td>7.8%</td>\n",
       "      <td>US</td>\n",
       "      <td>3.652685e+25</td>\n",
       "    </tr>\n",
       "    <tr>\n",
       "      <th>44</th>\n",
       "      <td>Texas</td>\n",
       "      <td>11300000</td>\n",
       "      <td>11231799</td>\n",
       "      <td>60.2%</td>\n",
       "      <td>18784280</td>\n",
       "      <td>22058260</td>\n",
       "      <td>12.6%</td>\n",
       "      <td>TX</td>\n",
       "      <td>3.872834e+22</td>\n",
       "    </tr>\n",
       "    <tr>\n",
       "      <th>11</th>\n",
       "      <td>Georgia</td>\n",
       "      <td>5025000</td>\n",
       "      <td>NaN</td>\n",
       "      <td>68.1%</td>\n",
       "      <td>7383562</td>\n",
       "      <td>8255108</td>\n",
       "      <td>6.6%</td>\n",
       "      <td>GA</td>\n",
       "      <td>1.273260e+21</td>\n",
       "    </tr>\n",
       "    <tr>\n",
       "      <th>10</th>\n",
       "      <td>Florida</td>\n",
       "      <td>11150000</td>\n",
       "      <td>NaN</td>\n",
       "      <td>71.7%</td>\n",
       "      <td>15551739</td>\n",
       "      <td>17543341</td>\n",
       "      <td>10.1%</td>\n",
       "      <td>FL</td>\n",
       "      <td>2.291855e+20</td>\n",
       "    </tr>\n",
       "    <tr>\n",
       "      <th>34</th>\n",
       "      <td>North Carolina</td>\n",
       "      <td>5600000</td>\n",
       "      <td>NaN</td>\n",
       "      <td>72.2%</td>\n",
       "      <td>7759051</td>\n",
       "      <td>8328642</td>\n",
       "      <td>5.7%</td>\n",
       "      <td>NC</td>\n",
       "      <td>8.410200e+18</td>\n",
       "    </tr>\n",
       "  </tbody>\n",
       "</table>\n",
       "</div>"
      ],
      "text/plain": [
       "             State Ballot Count President Vote Count VEP Turnout Rate  \\\n",
       "0    United States    158835004                  NaN            66.4%   \n",
       "44           Texas     11300000             11231799            60.2%   \n",
       "11         Georgia      5025000                  NaN            68.1%   \n",
       "10         Florida     11150000                  NaN            71.7%   \n",
       "34  North Carolina      5600000                  NaN            72.2%   \n",
       "\n",
       "   Voting-Eligible Population (VEP) Voting-Age Population (VAP) % Non-citizen  \\\n",
       "0                         239247182                   257605088          7.8%   \n",
       "44                         18784280                    22058260         12.6%   \n",
       "11                          7383562                     8255108          6.6%   \n",
       "10                         15551739                    17543341         10.1%   \n",
       "34                          7759051                     8328642          5.7%   \n",
       "\n",
       "   State Abv  Ineligible Crime Committers  \n",
       "0         US                 3.652685e+25  \n",
       "44        TX                 3.872834e+22  \n",
       "11        GA                 1.273260e+21  \n",
       "10        FL                 2.291855e+20  \n",
       "34        NC                 8.410200e+18  "
      ]
     },
     "execution_count": 5,
     "metadata": {},
     "output_type": "execute_result"
    }
   ],
   "source": [
    "ineligible_crime_committers = ['Prison', 'Probation', 'Parole', 'Total Ineligible Felon']\n",
    "voter_turnout_table_new_new_new = voter_turnout_table\n",
    "voter_turnout_table_new_new_new.replace(',', '', regex = True, inplace = True)\n",
    "voter_turnout_table_new_new_new['Ineligible Crime Committers'] = voter_turnout_table_new_new_new[ineligible_crime_committers].mean(axis = 1) \n",
    "voter_turnout_table_new_new_new = voter_turnout_table_new_new_new.drop(columns = ['Prison', 'Probation', 'Parole', 'Total Ineligible Felon'])\n",
    "voter_turnout_table_new_new_new.sort_values(by = ['Ineligible Crime Committers'], inplace = True, ascending = False)\n",
    "voter_turnout_table_new_new_new.head()"
   ]
  },
  {
   "cell_type": "markdown",
   "metadata": {},
   "source": [
    "I would like to see if there are any correlations between the VEP Turnout Rate and other attributes. I will accomplish this using a correlation heatmap. I will split the VEP turnout rates into separate ranges. These ranges are 55 - 60 %, 60 - 65 %, 65 - 70 %, 70 - 75 %, and 75 - 80 %.   "
   ]
  },
  {
   "cell_type": "code",
   "execution_count": 6,
   "metadata": {},
   "outputs": [
    {
     "name": "stderr",
     "output_type": "stream",
     "text": [
      "/root/miniconda3/lib/python3.8/site-packages/seaborn/matrix.py:204: RuntimeWarning: All-NaN slice encountered\n",
      "  vmin = np.nanmin(calc_data)\n",
      "/root/miniconda3/lib/python3.8/site-packages/seaborn/matrix.py:209: RuntimeWarning: All-NaN slice encountered\n",
      "  vmax = np.nanmax(calc_data)\n"
     ]
    },
    {
     "data": {
      "text/plain": [
       "<AxesSubplot:title={'center':'Correlation Heatmap of VEP Turnout Rate and Ineligible Crime Committers'}>"
      ]
     },
     "execution_count": 6,
     "metadata": {},
     "output_type": "execute_result"
    },
    {
     "data": {
      "image/png": "[encoded data removed]",
      "text/plain": [
       "<Figure size 432x288 with 2 Axes>"
      ]
     },
     "metadata": {
      "needs_background": "light"
     },
     "output_type": "display_data"
    }
   ],
   "source": [
    "vep_turnout_55_60 = voter_turnout_table_new_new_new[voter_turnout_table_new_new_new['VEP Turnout Rate'].isin(range(55, 60))]\n",
    "vep_turnout_60_65 = voter_turnout_table_new_new_new[voter_turnout_table_new_new_new['VEP Turnout Rate'].isin(range(60, 65))]\n",
    "vep_turnout_65_70 = voter_turnout_table_new_new_new[voter_turnout_table_new_new_new['VEP Turnout Rate'].isin(range(65, 70))]\n",
    "vep_turnout_70_75 = voter_turnout_table_new_new_new[voter_turnout_table_new_new_new['VEP Turnout Rate'].isin(range(70, 75))]\n",
    "vep_turnout_75_80 = voter_turnout_table_new_new_new[voter_turnout_table_new_new_new['VEP Turnout Rate'].isin(range(75, 80))]\n",
    "vep_turnout_ranges = [vep_turnout_55_60, vep_turnout_60_65, vep_turnout_65_70, vep_turnout_70_75, vep_turnout_75_80]\n",
    "correlation = []\n",
    "for table in vep_turnout_ranges:\n",
    "    vep_turnout_ineligible_crime_committers_correlation = table[['State Abv', 'VEP Turnout Rate', 'Ineligible Crime Committers']]\n",
    "    vep_turnout_ineligible_crime_committers_correlation = vep_turnout_ineligible_crime_committers_correlation.corr()\n",
    "    correlation.append(vep_turnout_ineligible_crime_committers_correlation)\n",
    "plt.title('Correlation Heatmap of VEP Turnout Rate and Ineligible Crime Committers')\n",
    "sns.heatmap(correlation[0])"
   ]
  },
  {
   "cell_type": "markdown",
   "metadata": {},
   "source": [
    "It is clearly shown in the correlation heatmap that there is a strong correlation between how many individuals are ineligible to vote and the voter turnout rate for each state. In the next section, I will try to create and train models that can accurately predict results.  \n",
    "## Data Visualization and Machine Learning\n",
    "I will be using Linear Discriminant Analysis from the sklearn module. LDA has assumptions that work well with my classification task. There are independent and a dependent variable. The independent variables are the voting attributes for each state like total ineligible felons and the dependent variable is the predicted category of a state in what their voter turnout looked like. \n",
    "\n",
    "Initially, I will split the table into features and labels. I will proceed to fit the model by splitting data into the training set and testing set. A test size of 0.5 will be used for this procedure."
   ]
  },
  {
   "cell_type": "code",
   "execution_count": 8,
   "metadata": {},
   "outputs": [
    {
     "name": "stdout",
     "output_type": "stream",
     "text": [
      "The accuracy of the model produced by Linear Discriminant Analysis is 0.038461538461538464\n"
     ]
    }
   ],
   "source": [
    "voter_turnout_table.replace('%', '', regex = True, inplace = True)\n",
    "features = voter_turnout_table.iloc[:, 10 : 11].to_numpy()\n",
    "labels = voter_turnout_table.iloc[:, 3].to_numpy()\n",
    "features_training, features_testing, labels_training, labels_testing = train_test_split(features, labels, test_size = 0.5)\n",
    "LDA = LinearDiscriminantAnalysis()\n",
    "LDA.fit(features_training, labels_training)\n",
    "predictions = LDA.predict(features_testing) \n",
    "print('The accuracy of the model produced by Linear Discriminant Analysis is {}'.format(accuracy_score(labels_testing, predictions)))"
   ]
  },
  {
   "cell_type": "markdown",
   "metadata": {},
   "source": [
    "## Conclusion\n",
    "This tutorial should have given people an insight in how voting was in this year's election. I examined the voter turnout for each state and how different attributes go into explaining how a state voted. The focused on the popular vote because I wanted to look at voter turnout. I gave evidence that shows a correlation between voter turnout and voting ineligibility for some people. I did make some risky assumptions along the way, but you should still understand voter turnout statistics for the 2020 election. I believe I fulfilled my purpose that I stated at the beginning of this tutorial. \n",
    "\n",
    "There are a few things that I would like to do as an extension of this tutorial. I would like to relate these results to previous elections. This would bring about a whole new dimension of information to this topic. Another thing I would like to do is to see how certain demographics voted for different candidates in the voting eligible population. Finally, I would like to go into a lot of detail how mail-in ballots affected this year's election. \n",
    "\n",
    "I appreciate you greatly if you made it this far. Thank you for taking a look at this tutorial. I hope you learned something while reading."
   ]
  }
 ],
 "metadata": {
  "kernelspec": {
   "display_name": "Python 3",
   "language": "python",
   "name": "python3"
  },
  "language_info": {
   "codemirror_mode": {
    "name": "ipython",
    "version": 3
   },
   "file_extension": ".py",
   "mimetype": "text/x-python",
   "name": "python",
   "nbconvert_exporter": "python",
   "pygments_lexer": "ipython3",
   "version": "3.8.3"
  }
 },
 "nbformat": 4,
 "nbformat_minor": 4
}
